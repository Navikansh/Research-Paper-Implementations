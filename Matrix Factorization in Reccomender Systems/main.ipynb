{
 "cells": [
  {
   "cell_type": "code",
   "execution_count": 1,
   "id": "84e4c9c0",
   "metadata": {},
   "outputs": [],
   "source": [
    "import numpy as np\n",
    "import pandas as pd\n",
    "\n",
    "column_names = ['user_id', 'movie_id', 'rating', 'timestamp']\n",
    "ratings = pd.read_csv(\n",
    "    '/Users/navikanshkaushik/Desktop/Codes/Research Paper Implementations/Matrix Factorization in Reccomender Systems/ml-100k/u.data',\n",
    "    sep='\\t',\n",
    "    names=column_names)"
   ]
  },
  {
   "cell_type": "code",
   "execution_count": 2,
   "id": "3ee51118",
   "metadata": {},
   "outputs": [
    {
     "data": {
      "text/html": [
       "<div>\n",
       "<style scoped>\n",
       "    .dataframe tbody tr th:only-of-type {\n",
       "        vertical-align: middle;\n",
       "    }\n",
       "\n",
       "    .dataframe tbody tr th {\n",
       "        vertical-align: top;\n",
       "    }\n",
       "\n",
       "    .dataframe thead th {\n",
       "        text-align: right;\n",
       "    }\n",
       "</style>\n",
       "<table border=\"1\" class=\"dataframe\">\n",
       "  <thead>\n",
       "    <tr style=\"text-align: right;\">\n",
       "      <th></th>\n",
       "      <th>user_id</th>\n",
       "      <th>movie_id</th>\n",
       "      <th>rating</th>\n",
       "      <th>timestamp</th>\n",
       "    </tr>\n",
       "  </thead>\n",
       "  <tbody>\n",
       "    <tr>\n",
       "      <th>0</th>\n",
       "      <td>196</td>\n",
       "      <td>242</td>\n",
       "      <td>3</td>\n",
       "      <td>881250949</td>\n",
       "    </tr>\n",
       "    <tr>\n",
       "      <th>1</th>\n",
       "      <td>186</td>\n",
       "      <td>302</td>\n",
       "      <td>3</td>\n",
       "      <td>891717742</td>\n",
       "    </tr>\n",
       "    <tr>\n",
       "      <th>2</th>\n",
       "      <td>22</td>\n",
       "      <td>377</td>\n",
       "      <td>1</td>\n",
       "      <td>878887116</td>\n",
       "    </tr>\n",
       "    <tr>\n",
       "      <th>3</th>\n",
       "      <td>244</td>\n",
       "      <td>51</td>\n",
       "      <td>2</td>\n",
       "      <td>880606923</td>\n",
       "    </tr>\n",
       "    <tr>\n",
       "      <th>4</th>\n",
       "      <td>166</td>\n",
       "      <td>346</td>\n",
       "      <td>1</td>\n",
       "      <td>886397596</td>\n",
       "    </tr>\n",
       "  </tbody>\n",
       "</table>\n",
       "</div>"
      ],
      "text/plain": [
       "   user_id  movie_id  rating  timestamp\n",
       "0      196       242       3  881250949\n",
       "1      186       302       3  891717742\n",
       "2       22       377       1  878887116\n",
       "3      244        51       2  880606923\n",
       "4      166       346       1  886397596"
      ]
     },
     "execution_count": 2,
     "metadata": {},
     "output_type": "execute_result"
    }
   ],
   "source": [
    "ratings.head()"
   ]
  },
  {
   "cell_type": "code",
   "execution_count": 3,
   "id": "675b7e46",
   "metadata": {},
   "outputs": [],
   "source": [
    "user_ids = ratings['user_id'].unique()\n",
    "user_ids.sort()\n",
    "movie_ids = ratings['movie_id'].unique()\n",
    "movie_ids.sort()\n"
   ]
  },
  {
   "cell_type": "code",
   "execution_count": 4,
   "id": "9a886a34",
   "metadata": {},
   "outputs": [
    {
     "name": "stdout",
     "output_type": "stream",
     "text": [
      "Number of users: 943\n",
      "Number of movies: 1682\n"
     ]
    }
   ],
   "source": [
    "print(f'Number of users: {len(user_ids)}')\n",
    "print(f'Number of movies: {len(movie_ids)}')"
   ]
  },
  {
   "cell_type": "code",
   "execution_count": 5,
   "id": "27c468bb",
   "metadata": {},
   "outputs": [],
   "source": [
    "num_users = len(user_ids)\n",
    "num_movies = len(movie_ids)\n",
    "ratings_matrix = np.zeros((num_users, num_movies))\n",
    "\n",
    "for row in ratings.itertuples():\n",
    "    user_index = np.where(user_ids == row.user_id)[0][0]\n",
    "    movie_index = np.where(movie_ids == row.movie_id)[0][0]\n",
    "    ratings_matrix[user_index, movie_index] = row.rating"
   ]
  },
  {
   "cell_type": "code",
   "execution_count": 6,
   "id": "f02dab1b",
   "metadata": {},
   "outputs": [
    {
     "name": "stdout",
     "output_type": "stream",
     "text": [
      "(943, 1682)\n",
      "[[5. 3. 4. ... 0. 0. 0.]\n",
      " [4. 0. 0. ... 0. 0. 0.]\n",
      " [0. 0. 0. ... 0. 0. 0.]\n",
      " ...\n",
      " [5. 0. 0. ... 0. 0. 0.]\n",
      " [0. 0. 0. ... 0. 0. 0.]\n",
      " [0. 5. 0. ... 0. 0. 0.]]\n",
      "Number of ratings: 100000\n",
      "Number of missing ratings: 1486126\n"
     ]
    }
   ],
   "source": [
    "print(ratings_matrix.shape)\n",
    "print(ratings_matrix)\n",
    "print(f'Number of ratings: {np.count_nonzero(ratings_matrix)}')\n",
    "print(f'Number of missing ratings: {np.count_nonzero(ratings_matrix == 0)}')"
   ]
  },
  {
   "cell_type": "code",
   "execution_count": 7,
   "id": "058eaf99",
   "metadata": {},
   "outputs": [],
   "source": [
    "import support"
   ]
  },
  {
   "cell_type": "code",
   "execution_count": 8,
   "id": "10d94e73",
   "metadata": {},
   "outputs": [
    {
     "name": "stdout",
     "output_type": "stream",
     "text": [
      "Step 50/100, Loss: 61672.0801\n",
      "Step 100/100, Loss: 59090.7512\n",
      "P shape: (943, 20)\n",
      "Q shape: (20, 1682)\n"
     ]
    }
   ],
   "source": [
    "P, Q, rmse = support.Matrix_factorization(ratings_matrix)\n",
    "print(f'P shape: {P.shape}')\n",
    "print(f'Q shape: {Q.shape}')"
   ]
  },
  {
   "cell_type": "code",
   "execution_count": 10,
   "id": "a4119419",
   "metadata": {},
   "outputs": [
    {
     "data": {
      "image/png": "[encoded data removed]",
      "text/plain": [
       "<Figure size 800x500 with 1 Axes>"
      ]
     },
     "metadata": {},
     "output_type": "display_data"
    }
   ],
   "source": [
    "import matplotlib.pyplot as plt\n",
    "plt.figure(figsize=(8, 5))\n",
    "plt.plot(range(1, 101), rmse, marker='o')\n",
    "plt.xlabel('Epoch')\n",
    "plt.ylabel('RMSE')\n",
    "plt.title('Training RMSE over Epochs')\n",
    "plt.grid(True)\n",
    "plt.tight_layout()\n",
    "plt.show()\n",
    "# print(f'RMSE: {rmse}')"
   ]
  },
  {
   "cell_type": "code",
   "execution_count": null,
   "id": "112d48ae",
   "metadata": {},
   "outputs": [],
   "source": []
  }
 ],
 "metadata": {
  "kernelspec": {
   "display_name": "base",
   "language": "python",
   "name": "python3"
  },
  "language_info": {
   "codemirror_mode": {
    "name": "ipython",
    "version": 3
   },
   "file_extension": ".py",
   "mimetype": "text/x-python",
   "name": "python",
   "nbconvert_exporter": "python",
   "pygments_lexer": "ipython3",
   "version": "3.12.4"
  }
 },
 "nbformat": 4,
 "nbformat_minor": 5
}
